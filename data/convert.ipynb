{
 "cells": [
  {
   "cell_type": "code",
   "execution_count": 49,
   "metadata": {},
   "outputs": [],
   "source": [
    "import pandas as pd\n",
    "import numpy as np\n",
    "import json"
   ]
  },
  {
   "cell_type": "markdown",
   "metadata": {},
   "source": [
    "### 전국관광지표준데이터 사용"
   ]
  },
  {
   "cell_type": "code",
   "execution_count": 50,
   "metadata": {},
   "outputs": [
    {
     "data": {
      "text/html": [
       "<div>\n",
       "<style scoped>\n",
       "    .dataframe tbody tr th:only-of-type {\n",
       "        vertical-align: middle;\n",
       "    }\n",
       "\n",
       "    .dataframe tbody tr th {\n",
       "        vertical-align: top;\n",
       "    }\n",
       "\n",
       "    .dataframe thead th {\n",
       "        text-align: right;\n",
       "    }\n",
       "</style>\n",
       "<table border=\"1\" class=\"dataframe\">\n",
       "  <thead>\n",
       "    <tr style=\"text-align: right;\">\n",
       "      <th></th>\n",
       "      <th>관광지명</th>\n",
       "      <th>관광지구분</th>\n",
       "      <th>소재지도로명주소</th>\n",
       "      <th>소재지지번주소</th>\n",
       "      <th>위도</th>\n",
       "      <th>경도</th>\n",
       "      <th>면적</th>\n",
       "      <th>공공편익시설정보</th>\n",
       "      <th>숙박시설정보</th>\n",
       "      <th>운동및오락시설정보</th>\n",
       "      <th>...</th>\n",
       "      <th>지원시설정보</th>\n",
       "      <th>지정일자</th>\n",
       "      <th>수용인원수</th>\n",
       "      <th>주차가능수</th>\n",
       "      <th>관광지소개</th>\n",
       "      <th>관리기관전화번호</th>\n",
       "      <th>관리기관명</th>\n",
       "      <th>데이터기준일자</th>\n",
       "      <th>제공기관코드</th>\n",
       "      <th>제공기관명</th>\n",
       "    </tr>\n",
       "  </thead>\n",
       "  <tbody>\n",
       "    <tr>\n",
       "      <th>0</th>\n",
       "      <td>일제 경성호국신사 계단(108계단)</td>\n",
       "      <td>관광지</td>\n",
       "      <td>서울특별시 용산구 신흥로22가길 33</td>\n",
       "      <td>서울특별시 용산구 용산동2가 1-346</td>\n",
       "      <td>37.546023</td>\n",
       "      <td>126.982542</td>\n",
       "      <td>237.2</td>\n",
       "      <td>승강기</td>\n",
       "      <td>None</td>\n",
       "      <td>None</td>\n",
       "      <td>...</td>\n",
       "      <td>None</td>\n",
       "      <td>1905-04-26</td>\n",
       "      <td>20</td>\n",
       "      <td>0</td>\n",
       "      <td>일제강점기 경성호국신사에 참배하기 위해 오르던 진입로로, 완공까지 한국인들의 재산과...</td>\n",
       "      <td>02-2199-7240</td>\n",
       "      <td>서울특별시 용산구청 문화체육과</td>\n",
       "      <td>2022-12-07</td>\n",
       "      <td>3020000</td>\n",
       "      <td>서울특별시 용산구</td>\n",
       "    </tr>\n",
       "    <tr>\n",
       "      <th>1</th>\n",
       "      <td>찬바람재</td>\n",
       "      <td>관광지</td>\n",
       "      <td>서울특별시 용산구 녹사평대로 195</td>\n",
       "      <td>서울특별시 용산구 용산동2가 7-99</td>\n",
       "      <td>37.534815</td>\n",
       "      <td>126.987014</td>\n",
       "      <td>646.6</td>\n",
       "      <td>승강기</td>\n",
       "      <td>None</td>\n",
       "      <td>None</td>\n",
       "      <td>...</td>\n",
       "      <td>None</td>\n",
       "      <td>2000-12-15</td>\n",
       "      <td>50</td>\n",
       "      <td>0</td>\n",
       "      <td>예전부터 겨울철 찬바람이 매섭게 몰아친다 하여 찬바람재 또는 한풍재라고도 불리던 곳...</td>\n",
       "      <td>02-2199-7240</td>\n",
       "      <td>서울특별시 용산구청 문화체육과</td>\n",
       "      <td>2022-12-07</td>\n",
       "      <td>3020000</td>\n",
       "      <td>서울특별시 용산구</td>\n",
       "    </tr>\n",
       "    <tr>\n",
       "      <th>2</th>\n",
       "      <td>옛 남영동 대공분실(민주인권기념관)</td>\n",
       "      <td>관광지</td>\n",
       "      <td>서울특별시 용산구 한강대로71길 37</td>\n",
       "      <td>서울특별시 용산구 갈월동 98-8</td>\n",
       "      <td>37.541012</td>\n",
       "      <td>126.971634</td>\n",
       "      <td>6391.0</td>\n",
       "      <td>화장실</td>\n",
       "      <td>None</td>\n",
       "      <td>None</td>\n",
       "      <td>...</td>\n",
       "      <td>None</td>\n",
       "      <td>2024-12-01</td>\n",
       "      <td>430</td>\n",
       "      <td>0</td>\n",
       "      <td>1970~80년대 민주주의를 억압하며 악명을 떨쳤던 남영동 대공분실은 1976년 지...</td>\n",
       "      <td>031-361-9576</td>\n",
       "      <td>민주화운동기념사업회</td>\n",
       "      <td>2022-12-07</td>\n",
       "      <td>3020000</td>\n",
       "      <td>서울특별시 용산구</td>\n",
       "    </tr>\n",
       "    <tr>\n",
       "      <th>3</th>\n",
       "      <td>옛 용산공설시장(현 남영아케이드)</td>\n",
       "      <td>관광지</td>\n",
       "      <td>서울특별시 용산구 한강대로84길 7</td>\n",
       "      <td>서울특별시 용산구 남영동 28-8</td>\n",
       "      <td>37.543723</td>\n",
       "      <td>126.972924</td>\n",
       "      <td>1449.0</td>\n",
       "      <td>화장실</td>\n",
       "      <td>None</td>\n",
       "      <td>None</td>\n",
       "      <td>...</td>\n",
       "      <td>None</td>\n",
       "      <td>1920-01-01</td>\n",
       "      <td>100</td>\n",
       "      <td>0</td>\n",
       "      <td>1922년 일제가 설치한 시장으로 지금은 남영아케이드로 불리고 있다.</td>\n",
       "      <td>02-2199-7240</td>\n",
       "      <td>서울특별시 용산구청 문화체육과</td>\n",
       "      <td>2022-12-07</td>\n",
       "      <td>3020000</td>\n",
       "      <td>서울특별시 용산구</td>\n",
       "    </tr>\n",
       "    <tr>\n",
       "      <th>4</th>\n",
       "      <td>전쟁기념관</td>\n",
       "      <td>관광지</td>\n",
       "      <td>서울특별시 용산구 이태원로 29</td>\n",
       "      <td>서울특별시 용산구 용산동1가 8</td>\n",
       "      <td>37.537314</td>\n",
       "      <td>126.978466</td>\n",
       "      <td>112887.2</td>\n",
       "      <td>화장실+주차장+물품보관함+수유실</td>\n",
       "      <td>None</td>\n",
       "      <td>None</td>\n",
       "      <td>...</td>\n",
       "      <td>None</td>\n",
       "      <td>1994-06-10</td>\n",
       "      <td>7500</td>\n",
       "      <td>150</td>\n",
       "      <td>1994년 용산에 건립된 전쟁기념관은 외침을 극복하고 국민의 생명과 재산을 지켜온 ...</td>\n",
       "      <td>02-709-3114</td>\n",
       "      <td>전쟁기념사업회</td>\n",
       "      <td>2022-12-07</td>\n",
       "      <td>3020000</td>\n",
       "      <td>서울특별시 용산구</td>\n",
       "    </tr>\n",
       "  </tbody>\n",
       "</table>\n",
       "<p>5 rows × 22 columns</p>\n",
       "</div>"
      ],
      "text/plain": [
       "                  관광지명 관광지구분              소재지도로명주소                소재지지번주소  \\\n",
       "0  일제 경성호국신사 계단(108계단)   관광지  서울특별시 용산구 신흥로22가길 33  서울특별시 용산구 용산동2가 1-346   \n",
       "1                 찬바람재   관광지   서울특별시 용산구 녹사평대로 195   서울특별시 용산구 용산동2가 7-99   \n",
       "2  옛 남영동 대공분실(민주인권기념관)   관광지  서울특별시 용산구 한강대로71길 37     서울특별시 용산구 갈월동 98-8   \n",
       "3   옛 용산공설시장(현 남영아케이드)   관광지   서울특별시 용산구 한강대로84길 7     서울특별시 용산구 남영동 28-8   \n",
       "4                전쟁기념관   관광지     서울특별시 용산구 이태원로 29      서울특별시 용산구 용산동1가 8   \n",
       "\n",
       "          위도          경도        면적           공공편익시설정보 숙박시설정보 운동및오락시설정보  ...  \\\n",
       "0  37.546023  126.982542     237.2                승강기   None      None  ...   \n",
       "1  37.534815  126.987014     646.6                승강기   None      None  ...   \n",
       "2  37.541012  126.971634    6391.0                화장실   None      None  ...   \n",
       "3  37.543723  126.972924    1449.0                화장실   None      None  ...   \n",
       "4  37.537314  126.978466  112887.2  화장실+주차장+물품보관함+수유실   None      None  ...   \n",
       "\n",
       "  지원시설정보        지정일자 수용인원수 주차가능수  \\\n",
       "0   None  1905-04-26    20     0   \n",
       "1   None  2000-12-15    50     0   \n",
       "2   None  2024-12-01   430     0   \n",
       "3   None  1920-01-01   100     0   \n",
       "4   None  1994-06-10  7500   150   \n",
       "\n",
       "                                               관광지소개      관리기관전화번호  \\\n",
       "0  일제강점기 경성호국신사에 참배하기 위해 오르던 진입로로, 완공까지 한국인들의 재산과...  02-2199-7240   \n",
       "1  예전부터 겨울철 찬바람이 매섭게 몰아친다 하여 찬바람재 또는 한풍재라고도 불리던 곳...  02-2199-7240   \n",
       "2  1970~80년대 민주주의를 억압하며 악명을 떨쳤던 남영동 대공분실은 1976년 지...  031-361-9576   \n",
       "3             1922년 일제가 설치한 시장으로 지금은 남영아케이드로 불리고 있다.  02-2199-7240   \n",
       "4  1994년 용산에 건립된 전쟁기념관은 외침을 극복하고 국민의 생명과 재산을 지켜온 ...   02-709-3114   \n",
       "\n",
       "              관리기관명     데이터기준일자   제공기관코드      제공기관명  \n",
       "0  서울특별시 용산구청 문화체육과  2022-12-07  3020000  서울특별시 용산구  \n",
       "1  서울특별시 용산구청 문화체육과  2022-12-07  3020000  서울특별시 용산구  \n",
       "2        민주화운동기념사업회  2022-12-07  3020000  서울특별시 용산구  \n",
       "3  서울특별시 용산구청 문화체육과  2022-12-07  3020000  서울특별시 용산구  \n",
       "4           전쟁기념사업회  2022-12-07  3020000  서울특별시 용산구  \n",
       "\n",
       "[5 rows x 22 columns]"
      ]
     },
     "execution_count": 50,
     "metadata": {},
     "output_type": "execute_result"
    }
   ],
   "source": [
    "df = pd.read_csv('data.csv', encoding='cp949') # 공공데이터는 주로 cp949로 인코딩 되어있음\n",
    "# null값 처리\n",
    "df = df.replace({np.nan: None})\n",
    "df = df.replace({'  ': \" \"})\n",
    "df.head()"
   ]
  },
  {
   "cell_type": "markdown",
   "metadata": {},
   "source": [
    "### 그래프 데이터 생성\n",
    "\n",
    "- Nodes와 Linkes로 구성된 그래프 데이터를 생성해야함\n",
    "- Nodes는 id값과 관광지에 대한 정보를 담고 있음\n",
    "- Links는 source와 target으로 구성되어 있으며, source와 target은 Nodes의 id값을 참조함\n",
    "    - 이 데이터는 제공기관 기준으로 관광지의 연결관계를 나타내도록 정제함"
   ]
  },
  {
   "cell_type": "markdown",
   "metadata": {},
   "source": []
  },
  {
   "cell_type": "code",
   "execution_count": 51,
   "metadata": {},
   "outputs": [],
   "source": [
    "# 관광지 식별을 위한 id 컬럼 추가\n",
    "df['id'] = \"tour\" + df.index.astype(str)\n",
    "# 관광지 id를 index로 설정\n",
    "df.set_index('id', inplace=True)"
   ]
  },
  {
   "cell_type": "code",
   "execution_count": 52,
   "metadata": {},
   "outputs": [],
   "source": [
    "# node와 link 관계 생성을 위해 dict 형태로 데이터 가공\n",
    "\n",
    "df_dict = df.to_dict(orient='index')"
   ]
  },
  {
   "cell_type": "code",
   "execution_count": 53,
   "metadata": {},
   "outputs": [],
   "source": [
    "graph_json = {\"nodes\": [], \"links\": []}\n",
    "\n",
    "for index, item in df_dict.items():\n",
    "    # 모든 컬럼 정보를 node의 속성으로 추가\n",
    "    node = {\"id\": str(index)}\n",
    "    for column, value in item.items():\n",
    "        node[column] = value\n",
    "    graph_json[\"nodes\"].append(node)\n",
    "\n",
    "    # link 관계를 위한 target 설정\n",
    "    link_targets = [\n",
    "        item['제공기관코드']\n",
    "    ]\n",
    "\n",
    "    for target in link_targets:\n",
    "        if target is not None:\n",
    "            graph_json[\"links\"].append({\"source\": str(index), \"target\": str(target)})\n",
    "            # target도 node로 추가\n",
    "            # target이 이미 추가되었는지 확인\n",
    "            if not any(d['id'] == str(target) for d in graph_json[\"nodes\"]):\n",
    "                graph_json[\"nodes\"].append({\"id\": str(target), \"name\": item['제공기관명']})"
   ]
  },
  {
   "cell_type": "code",
   "execution_count": 54,
   "metadata": {},
   "outputs": [
    {
     "data": {
      "text/plain": [
       "{'id': 'tour0',\n",
       " '관광지명': '일제 경성호국신사 계단(108계단)',\n",
       " '관광지구분': '관광지',\n",
       " '소재지도로명주소': '서울특별시 용산구 신흥로22가길 33',\n",
       " '소재지지번주소': '서울특별시 용산구 용산동2가 1-346',\n",
       " '위도': 37.546023,\n",
       " '경도': 126.982542,\n",
       " '면적': 237.2,\n",
       " '공공편익시설정보': '승강기',\n",
       " '숙박시설정보': None,\n",
       " '운동및오락시설정보': None,\n",
       " '휴양및문화시설정보': None,\n",
       " '접객시설정보': None,\n",
       " '지원시설정보': None,\n",
       " '지정일자': '1905-04-26',\n",
       " '수용인원수': 20,\n",
       " '주차가능수': 0,\n",
       " '관광지소개': '일제강점기 경성호국신사에 참배하기 위해 오르던 진입로로, 완공까지 한국인들의 재산과 노동력이 동원되었다. 일제 말기 식민지 한국이 처했던 비극의 역사를 선명하게 보여주는 장소이다.',\n",
       " '관리기관전화번호': '02-2199-7240',\n",
       " '관리기관명': '서울특별시 용산구청 문화체육과',\n",
       " '데이터기준일자': '2022-12-07',\n",
       " '제공기관코드': 3020000,\n",
       " '제공기관명': '서울특별시 용산구'}"
      ]
     },
     "execution_count": 54,
     "metadata": {},
     "output_type": "execute_result"
    }
   ],
   "source": [
    "#graph_json 노드의 0번째 데이터 확인\n",
    "graph_json[\"nodes\"][0]"
   ]
  },
  {
   "cell_type": "code",
   "execution_count": 55,
   "metadata": {},
   "outputs": [
    {
     "data": {
      "text/plain": [
       "{'source': 'tour0', 'target': '3020000'}"
      ]
     },
     "execution_count": 55,
     "metadata": {},
     "output_type": "execute_result"
    }
   ],
   "source": [
    "#graph_json 링크의 0번째 데이터 확인\n",
    "graph_json[\"links\"][0]"
   ]
  },
  {
   "cell_type": "code",
   "execution_count": 56,
   "metadata": {},
   "outputs": [
    {
     "name": "stdout",
     "output_type": "stream",
     "text": [
      "nodes의 총 개수:  1054\n",
      "links의 총 개수:  879\n"
     ]
    }
   ],
   "source": [
    "print(\"nodes의 총 개수: \", len(graph_json[\"nodes\"]))\n",
    "print(\"links의 총 개수: \", len(graph_json[\"links\"]))"
   ]
  },
  {
   "cell_type": "code",
   "execution_count": 57,
   "metadata": {},
   "outputs": [],
   "source": [
    "# graph_json를 json 파일로 저장\n",
    "with open(f'data.json', 'w') as outfile:\n",
    "    json.dump(graph_json, outfile, ensure_ascii=False, indent=4)"
   ]
  }
 ],
 "metadata": {
  "kernelspec": {
   "display_name": "base",
   "language": "python",
   "name": "python3"
  },
  "language_info": {
   "codemirror_mode": {
    "name": "ipython",
    "version": 3
   },
   "file_extension": ".py",
   "mimetype": "text/x-python",
   "name": "python",
   "nbconvert_exporter": "python",
   "pygments_lexer": "ipython3",
   "version": "3.8.8"
  }
 },
 "nbformat": 4,
 "nbformat_minor": 2
}
